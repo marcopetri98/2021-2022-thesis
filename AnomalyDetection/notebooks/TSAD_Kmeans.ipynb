{
 "cells": [
  {
   "cell_type": "markdown",
   "id": "59fba608",
   "metadata": {},
   "source": [
    "# What is the difference between notebooks and compiled notebooks?\n",
    "\n",
    "The difference is that notebooks (this one) contain only code cells and this cell for which you have to follow this procedure. Compiled notebooks (those ending with \"compiled\") is a name we give to the result of following this procedure. Basically, you can simply open the compiled notebooks without caring of following the procedure here described. Or, if you do not trust their result, which is something we suggest you to do, you can follow these instructions to view notebooks. However, it is not necessary if you are just about to read them to understand the structure of the code.\n",
    "\n",
    "# How to use this notebook\n",
    "\n",
    "Since many different algorithms share properties and ways in which they manage data, a lot of the code is reused by employing inheritance and design patterns. Moreover, since the shared codes share the descriptions too, magic commands are used to automatically load markdown cells and code. In this way, notebooks can be consistent if a modification has been done to a shared component. All the files are stored separately and then imported.\n",
    "\n",
    "## How to run this notebook\n",
    "\n",
    "The first time you are supposed to hit `Run all` command. Doing this procedure, all the code cells will load markdown content and code. Even though this way of handling a notebook could be tedious and frustrating, it guarantees that every notebook will be consistent and that you could correctly view every model.\n",
    "\n",
    "## Markdown cells are code cells, how can I quickly change them?\n",
    "\n",
    "Every code cell content could be either a code cell or a markdown cell. For markdown cells, you can easily press `Esc -> M` to change it in a markdown cell or `Esc -> Y` to change it into a code cell."
   ]
  },
  {
   "cell_type": "code",
   "execution_count": null,
   "id": "e354cd5a",
   "metadata": {},
   "outputs": [],
   "source": [
    "%load \"cells/suggestions.md\""
   ]
  },
  {
   "cell_type": "code",
   "execution_count": null,
   "id": "e7a85e69",
   "metadata": {},
   "outputs": [],
   "source": [
    "%load \"cells/ml_interfaces.md\""
   ]
  },
  {
   "cell_type": "code",
   "execution_count": null,
   "id": "02200a12",
   "metadata": {},
   "outputs": [],
   "source": [
    "%load \"cells/ml_interfaces.py\""
   ]
  },
  {
   "cell_type": "code",
   "execution_count": null,
   "id": "3127e39b",
   "metadata": {},
   "outputs": [],
   "source": [
    "%load \"cells/readers_interfaces.md\""
   ]
  },
  {
   "cell_type": "code",
   "execution_count": null,
   "id": "dcd0f857",
   "metadata": {},
   "outputs": [],
   "source": [
    "%load \"cells/readers_interfaces.py\""
   ]
  },
  {
   "cell_type": "code",
   "execution_count": null,
   "id": "2be8b55f",
   "metadata": {},
   "outputs": [],
   "source": [
    "%load \"cells/validation_procedures.md\""
   ]
  },
  {
   "cell_type": "code",
   "execution_count": null,
   "id": "4d2d9a67",
   "metadata": {},
   "outputs": [],
   "source": [
    "%load \"cells/validation_procedures.py\""
   ]
  },
  {
   "cell_type": "code",
   "execution_count": null,
   "id": "afcd3bb3",
   "metadata": {},
   "outputs": [],
   "source": [
    "%load \"cells/reader_general.md\""
   ]
  },
  {
   "cell_type": "code",
   "execution_count": null,
   "id": "bbfa01c9",
   "metadata": {},
   "outputs": [],
   "source": [
    "%load \"cells/reader_general.py\""
   ]
  },
  {
   "cell_type": "code",
   "execution_count": null,
   "id": "f664dec2",
   "metadata": {},
   "outputs": [],
   "source": [
    "%load \"cells/reader_nab.md\""
   ]
  },
  {
   "cell_type": "code",
   "execution_count": null,
   "id": "07767c33",
   "metadata": {},
   "outputs": [],
   "source": [
    "%load \"cells/reader_nab.py\""
   ]
  },
  {
   "cell_type": "code",
   "execution_count": null,
   "id": "5c98c0d9",
   "metadata": {},
   "outputs": [],
   "source": [
    "%load \"cells/base_model.md\""
   ]
  },
  {
   "cell_type": "code",
   "execution_count": null,
   "id": "5b5a1769",
   "metadata": {},
   "outputs": [],
   "source": [
    "%load \"cells/base_model.py\""
   ]
  },
  {
   "cell_type": "code",
   "execution_count": null,
   "id": "f2c9d26f",
   "metadata": {},
   "outputs": [],
   "source": [
    "%load \"cells/ml_sliding_window.md\""
   ]
  },
  {
   "cell_type": "code",
   "execution_count": null,
   "id": "0b67f08c",
   "metadata": {},
   "outputs": [],
   "source": [
    "%load \"cells/ml_sliding_window.py\""
   ]
  },
  {
   "cell_type": "code",
   "execution_count": null,
   "id": "19b2067d",
   "metadata": {},
   "outputs": [],
   "source": [
    "%load \"cells/ml_window_wrapper.md\""
   ]
  },
  {
   "cell_type": "code",
   "execution_count": null,
   "id": "025a5327",
   "metadata": {},
   "outputs": [],
   "source": [
    "%load \"cells/ml_window_wrapper.py\""
   ]
  },
  {
   "cell_type": "code",
   "execution_count": null,
   "id": "08456a2d",
   "metadata": {},
   "outputs": [],
   "source": [
    "%load \"cells/ml_kmeans.md\""
   ]
  },
  {
   "cell_type": "code",
   "execution_count": null,
   "id": "9facdfe8",
   "metadata": {},
   "outputs": [],
   "source": [
    "%load \"cells/ml_kmeans.py\""
   ]
  },
  {
   "cell_type": "code",
   "execution_count": null,
   "id": "09530d9d",
   "metadata": {},
   "outputs": [],
   "source": [
    "%load \"cells/metrics.md\""
   ]
  },
  {
   "cell_type": "code",
   "execution_count": null,
   "id": "26c7c230",
   "metadata": {},
   "outputs": [],
   "source": [
    "%load \"cells/metrics.py\""
   ]
  },
  {
   "cell_type": "code",
   "execution_count": null,
   "id": "ef97495a",
   "metadata": {},
   "outputs": [],
   "source": [
    "%load \"cells/ml_unsupervised_reading.md\""
   ]
  },
  {
   "cell_type": "code",
   "execution_count": null,
   "id": "68e2dae3",
   "metadata": {},
   "outputs": [],
   "source": [
    "%load \"cells/ml_unsupervised_reading.py\""
   ]
  },
  {
   "cell_type": "code",
   "execution_count": null,
   "id": "1cc1bb48",
   "metadata": {},
   "outputs": [],
   "source": [
    "%load \"cells/ml_unsupervised_predict.md\""
   ]
  },
  {
   "cell_type": "code",
   "execution_count": null,
   "id": "018d021b",
   "metadata": {},
   "outputs": [],
   "source": [
    "%load \"cells/ml_unsupervised_predict.py\""
   ]
  },
  {
   "cell_type": "code",
   "execution_count": null,
   "id": "ce5ac80f",
   "metadata": {},
   "outputs": [],
   "source": [
    "%load \"cells/compute_metrics_sliding_window.md\""
   ]
  },
  {
   "cell_type": "code",
   "execution_count": null,
   "id": "3a1b354b",
   "metadata": {},
   "outputs": [],
   "source": [
    "%load \"cells/compute_metrics_sliding_window.py\""
   ]
  }
 ],
 "metadata": {
  "kernelspec": {
   "display_name": "Python 3 (ipykernel)",
   "language": "python",
   "name": "python3"
  },
  "language_info": {
   "codemirror_mode": {
    "name": "ipython",
    "version": 3
   },
   "file_extension": ".py",
   "mimetype": "text/x-python",
   "name": "python",
   "nbconvert_exporter": "python",
   "pygments_lexer": "ipython3",
   "version": "3.10.4"
  }
 },
 "nbformat": 4,
 "nbformat_minor": 5
}
