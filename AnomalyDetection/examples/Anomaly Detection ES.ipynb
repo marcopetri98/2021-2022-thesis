{
 "cells": [
  {
   "cell_type": "markdown",
   "id": "18ade6e6",
   "metadata": {},
   "source": [
    "# Imports and constants"
   ]
  },
  {
   "cell_type": "code",
   "execution_count": 3,
   "id": "fa193986",
   "metadata": {},
   "outputs": [
    {
     "name": "stdout",
     "output_type": "stream",
     "text": [
      "F:\\OneDrive\\Documenti\\05. University\\Anno 5\\Appunti digitali\\Tesi\\2021-2022-thesis-petri\\AnomalyDetection\\examples\n"
     ]
    },
    {
     "ename": "ModuleNotFoundError",
     "evalue": "No module named 'Metrics'",
     "output_type": "error",
     "traceback": [
      "\u001b[1;31m---------------------------------------------------------------------------\u001b[0m",
      "\u001b[1;31mModuleNotFoundError\u001b[0m                       Traceback (most recent call last)",
      "Input \u001b[1;32mIn [3]\u001b[0m, in \u001b[0;36m<cell line: 6>\u001b[1;34m()\u001b[0m\n\u001b[0;32m      4\u001b[0m \u001b[38;5;28;01mimport\u001b[39;00m \u001b[38;5;21;01mos\u001b[39;00m\n\u001b[0;32m      5\u001b[0m \u001b[38;5;28mprint\u001b[39m(os\u001b[38;5;241m.\u001b[39mgetcwd())\n\u001b[1;32m----> 6\u001b[0m \u001b[38;5;28;01mfrom\u001b[39;00m \u001b[38;5;21;01mMetrics\u001b[39;00m \u001b[38;5;28;01mimport\u001b[39;00m compute_metrics, make_metric_plots\n\u001b[0;32m      7\u001b[0m \u001b[38;5;28;01mimport\u001b[39;00m \u001b[38;5;21;01mvisualizer\u001b[39;00m\u001b[38;5;21;01m.\u001b[39;00m\u001b[38;5;21;01mViewer\u001b[39;00m \u001b[38;5;28;01mas\u001b[39;00m \u001b[38;5;21;01mvw\u001b[39;00m\n\u001b[0;32m      8\u001b[0m \u001b[38;5;28;01mfrom\u001b[39;00m \u001b[38;5;21;01mmodels\u001b[39;00m\u001b[38;5;21;01m.\u001b[39;00m\u001b[38;5;21;01mtime_series\u001b[39;00m\u001b[38;5;21;01m.\u001b[39;00m\u001b[38;5;21;01manomaly\u001b[39;00m\u001b[38;5;21;01m.\u001b[39;00m\u001b[38;5;21;01mstatistical\u001b[39;00m\u001b[38;5;21;01m.\u001b[39;00m\u001b[38;5;21;01mTimeSeriesAnomalyES\u001b[39;00m \u001b[38;5;28;01mimport\u001b[39;00m TimeSeriesAnomalyES\n",
      "\u001b[1;31mModuleNotFoundError\u001b[0m: No module named 'Metrics'"
     ]
    }
   ],
   "source": [
    "import numpy as np\n",
    "from sklearn.preprocessing import StandardScaler\n",
    "from sklearn import metrics\n",
    "\n",
    "from Metrics import compute_metrics, make_metric_plots\n",
    "import visualizer.Viewer as vw\n",
    "from models.time_series.anomaly.statistical.TimeSeriesAnomalyES import TimeSeriesAnomalyES\n",
    "from reader.NABTimeSeriesReader import NABTimeSeriesReader\n",
    "\n",
    "# DATASET 1: ambient_temperature_system_failure\n",
    "# DATASET 2: nyc_taxi\n",
    "DATASET_PATH = \"data/dataset/\"\n",
    "DATASET = \"nyc_taxi.csv\"\n",
    "PURE_DATA_KEY = \"realKnownCause/nyc_taxi.csv\"\n",
    "GROUND_WINDOWS_PATH = \"data/dataset/combined_windows.json\"\n",
    "CHECK_OVERFITTING = False\n",
    "ALL_DATA = False\n",
    "\n",
    "def preprocess(X) -> np.ndarray:\n",
    "    return StandardScaler().fit_transform(X)"
   ]
  },
  {
   "cell_type": "markdown",
   "id": "a51b4927",
   "metadata": {},
   "source": [
    "# Read the dataset and train-test split"
   ]
  },
  {
   "cell_type": "code",
   "execution_count": null,
   "id": "e4407404",
   "metadata": {},
   "outputs": [],
   "source": [
    "reader = NABTimeSeriesReader(DATASET_PATH)\n",
    "all_df = reader.read(DATASET_PATH + DATASET).get_dataframe()\n",
    "training, test = reader.train_test_split(train_perc=0.37).get_train_test_dataframes()\n",
    "\n",
    "# Data used to train\n",
    "data = preprocess(np.array(training[\"value\"]).reshape((training[\"value\"].shape[0], 1)))\n",
    "data_labels = training[\"target\"]\n",
    "\n",
    "# Data used to test\n",
    "data_test = preprocess(np.array(test[\"value\"]).reshape((test[\"value\"].shape[0], 1)))\n",
    "data_test_labels = test[\"target\"]\n",
    "\n",
    "# Dataframe used to evaluate\n",
    "dataframe = test.copy()\n",
    "dataframe[\"value\"] = data_test\n",
    "\n",
    "train = data\n",
    "\n",
    "if CHECK_OVERFITTING:\n",
    "    data_test = data\n",
    "    data_test_labels = data_labels\n",
    "    dataframe = training.copy()\n",
    "    dataframe[\"value\"] = data_test\n",
    "elif ALL_DATA:\n",
    "    data_test = preprocess(np.array(all_df[\"value\"]).reshape(all_df[\"value\"].shape[0], 1))\n",
    "    data_test_labels = all_df[\"target\"]\n",
    "    dataframe = all_df.copy()\n",
    "    dataframe[\"value\"] = data_test"
   ]
  },
  {
   "cell_type": "markdown",
   "id": "80802dee",
   "metadata": {},
   "source": [
    "# Create model, classify and score"
   ]
  },
  {
   "cell_type": "code",
   "execution_count": null,
   "id": "2d837072",
   "metadata": {},
   "outputs": [],
   "source": [
    "model = TimeSeriesAnomalyES(es_params={\"endog\": train,\n",
    "                                       \"trend\": \"add\",\n",
    "                                       \"damped_trend\": True,\n",
    "                                       \"seasonal\": \"add\",\n",
    "                                       \"seasonal_periods\": 7})\n",
    "model.fit(fit_params={\"optimized\": True})\n",
    "\n",
    "true_labels = data_test_labels\n",
    "\n",
    "labels = model.classify(data_test.reshape((-1, 1)))\n",
    "scores = model.anomaly_score(data_test.reshape((-1, 1)))"
   ]
  },
  {
   "cell_type": "markdown",
   "id": "0eb8ca99",
   "metadata": {},
   "source": [
    "# Evaluation metrics for anomaly detection"
   ]
  },
  {
   "cell_type": "code",
   "execution_count": null,
   "id": "e8961509",
   "metadata": {
    "scrolled": true
   },
   "outputs": [],
   "source": [
    "compute_metrics(true_labels, scores, labels, only_roc_auc=False)"
   ]
  },
  {
   "cell_type": "markdown",
   "id": "838316d4",
   "metadata": {},
   "source": [
    "# Confusion matrix"
   ]
  },
  {
   "cell_type": "code",
   "execution_count": null,
   "id": "c509211b",
   "metadata": {
    "scrolled": false
   },
   "outputs": [],
   "source": [
    "confusion_matrix = metrics.confusion_matrix(true_labels, labels)\n",
    "vw.plot_confusion_matrix(confusion_matrix)"
   ]
  },
  {
   "cell_type": "markdown",
   "id": "15a8e967",
   "metadata": {},
   "source": [
    "# ROC curve"
   ]
  },
  {
   "cell_type": "code",
   "execution_count": null,
   "id": "9d032414",
   "metadata": {},
   "outputs": [],
   "source": [
    "vw.plot_roc_curve(true_labels, scores)"
   ]
  },
  {
   "cell_type": "markdown",
   "id": "420af3c4",
   "metadata": {},
   "source": [
    "# Precision-recall curve"
   ]
  },
  {
   "cell_type": "code",
   "execution_count": null,
   "id": "c3d9c7c5",
   "metadata": {},
   "outputs": [],
   "source": [
    "vw.plot_precision_recall_curve(true_labels, scores)"
   ]
  },
  {
   "cell_type": "markdown",
   "id": "d80648ff",
   "metadata": {},
   "source": [
    "# Assigned labels"
   ]
  },
  {
   "cell_type": "code",
   "execution_count": null,
   "id": "413c85b0",
   "metadata": {},
   "outputs": [],
   "source": [
    "vw.plot_univariate_time_series_predictions(dataframe, labels)"
   ]
  },
  {
   "cell_type": "markdown",
   "id": "c8a30d9d",
   "metadata": {},
   "source": [
    "# Assigned scores"
   ]
  },
  {
   "cell_type": "code",
   "execution_count": null,
   "id": "95f23b94",
   "metadata": {},
   "outputs": [],
   "source": [
    "vw.plot_univariate_time_series_predictions(dataframe, scores)"
   ]
  },
  {
   "cell_type": "markdown",
   "id": "a1689ee7",
   "metadata": {},
   "source": [
    "# Anomalies predictions as red dots"
   ]
  },
  {
   "cell_type": "code",
   "execution_count": null,
   "id": "c831b8e9",
   "metadata": {},
   "outputs": [],
   "source": [
    "bars = vw.get_bars_indices_on_test_df(all_df,\n",
    "                                      dataframe,\n",
    "                                      PURE_DATA_KEY,\n",
    "                                      GROUND_WINDOWS_PATH)\n",
    "vw.plot_time_series_with_predicitons_bars(dataframe,\n",
    "                                          labels,\n",
    "                                          bars,\n",
    "                                          pred_color='r')"
   ]
  }
 ],
 "metadata": {
  "kernelspec": {
   "display_name": "Python 3 (ipykernel)",
   "language": "python",
   "name": "python3"
  },
  "language_info": {
   "codemirror_mode": {
    "name": "ipython",
    "version": 3
   },
   "file_extension": ".py",
   "mimetype": "text/x-python",
   "name": "python",
   "nbconvert_exporter": "python",
   "pygments_lexer": "ipython3",
   "version": "3.10.4"
  }
 },
 "nbformat": 4,
 "nbformat_minor": 5
}
